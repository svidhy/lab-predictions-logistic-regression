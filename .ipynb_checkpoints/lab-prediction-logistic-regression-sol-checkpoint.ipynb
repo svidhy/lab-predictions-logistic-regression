{
 "cells": [
  {
   "cell_type": "code",
   "execution_count": 1,
   "id": "eb4253d5",
   "metadata": {},
   "outputs": [
    {
     "name": "stdout",
     "output_type": "stream",
     "text": [
      "········\n"
     ]
    }
   ],
   "source": [
    "# prep: import modules and get pwd\n",
    "import pymysql\n",
    "import seaborn as sns\n",
    "from sqlalchemy import create_engine\n",
    "import pandas as pd\n",
    "import numpy as np\n",
    "from sklearn.preprocessing import MinMaxScaler\n",
    "import getpass  # To get the password without showing the input\n",
    "password = getpass.getpass()"
   ]
  },
  {
   "cell_type": "code",
   "execution_count": 2,
   "id": "e4243957",
   "metadata": {},
   "outputs": [],
   "source": [
    "# get the data\n",
    "connection_string = 'mysql+pymysql://root:' + password + '@localhost/sakila'\n",
    "engine = create_engine(connection_string)"
   ]
  },
  {
   "cell_type": "code",
   "execution_count": 3,
   "id": "e88d8eb2",
   "metadata": {},
   "outputs": [
    {
     "data": {
      "text/html": [
       "<div>\n",
       "<style scoped>\n",
       "    .dataframe tbody tr th:only-of-type {\n",
       "        vertical-align: middle;\n",
       "    }\n",
       "\n",
       "    .dataframe tbody tr th {\n",
       "        vertical-align: top;\n",
       "    }\n",
       "\n",
       "    .dataframe thead th {\n",
       "        text-align: right;\n",
       "    }\n",
       "</style>\n",
       "<table border=\"1\" class=\"dataframe\">\n",
       "  <thead>\n",
       "    <tr style=\"text-align: right;\">\n",
       "      <th></th>\n",
       "      <th>title</th>\n",
       "      <th>rental_rate</th>\n",
       "      <th>length</th>\n",
       "      <th>rating</th>\n",
       "      <th>special_features</th>\n",
       "      <th>replacement_cost</th>\n",
       "      <th>rented_in_may</th>\n",
       "    </tr>\n",
       "  </thead>\n",
       "  <tbody>\n",
       "    <tr>\n",
       "      <th>0</th>\n",
       "      <td>ACADEMY DINOSAUR</td>\n",
       "      <td>0.99</td>\n",
       "      <td>86</td>\n",
       "      <td>PG</td>\n",
       "      <td>Deleted Scenes,Behind the Scenes</td>\n",
       "      <td>20.99</td>\n",
       "      <td>1</td>\n",
       "    </tr>\n",
       "    <tr>\n",
       "      <th>1</th>\n",
       "      <td>ACE GOLDFINGER</td>\n",
       "      <td>4.99</td>\n",
       "      <td>48</td>\n",
       "      <td>G</td>\n",
       "      <td>Trailers,Deleted Scenes</td>\n",
       "      <td>12.99</td>\n",
       "      <td>0</td>\n",
       "    </tr>\n",
       "    <tr>\n",
       "      <th>2</th>\n",
       "      <td>ADAPTATION HOLES</td>\n",
       "      <td>2.99</td>\n",
       "      <td>50</td>\n",
       "      <td>NC-17</td>\n",
       "      <td>Trailers,Deleted Scenes</td>\n",
       "      <td>18.99</td>\n",
       "      <td>1</td>\n",
       "    </tr>\n",
       "    <tr>\n",
       "      <th>3</th>\n",
       "      <td>AFFAIR PREJUDICE</td>\n",
       "      <td>2.99</td>\n",
       "      <td>117</td>\n",
       "      <td>G</td>\n",
       "      <td>Commentaries,Behind the Scenes</td>\n",
       "      <td>26.99</td>\n",
       "      <td>1</td>\n",
       "    </tr>\n",
       "    <tr>\n",
       "      <th>4</th>\n",
       "      <td>AFRICAN EGG</td>\n",
       "      <td>2.99</td>\n",
       "      <td>130</td>\n",
       "      <td>G</td>\n",
       "      <td>Deleted Scenes</td>\n",
       "      <td>22.99</td>\n",
       "      <td>1</td>\n",
       "    </tr>\n",
       "  </tbody>\n",
       "</table>\n",
       "</div>"
      ],
      "text/plain": [
       "              title  rental_rate  length rating  \\\n",
       "0  ACADEMY DINOSAUR         0.99      86     PG   \n",
       "1    ACE GOLDFINGER         4.99      48      G   \n",
       "2  ADAPTATION HOLES         2.99      50  NC-17   \n",
       "3  AFFAIR PREJUDICE         2.99     117      G   \n",
       "4       AFRICAN EGG         2.99     130      G   \n",
       "\n",
       "                   special_features  replacement_cost  rented_in_may  \n",
       "0  Deleted Scenes,Behind the Scenes             20.99              1  \n",
       "1           Trailers,Deleted Scenes             12.99              0  \n",
       "2           Trailers,Deleted Scenes             18.99              1  \n",
       "3    Commentaries,Behind the Scenes             26.99              1  \n",
       "4                    Deleted Scenes             22.99              1  "
      ]
     },
     "execution_count": 3,
     "metadata": {},
     "output_type": "execute_result"
    }
   ],
   "source": [
    "query = ''' SELECT\n",
    "    f.title,\n",
    "    f.rental_rate,\n",
    "    f.length,\n",
    "    f.rating,\n",
    "    f.special_features,\n",
    "    f.replacement_cost,\n",
    "    MAX(CASE WHEN r.rental_date IS NOT NULL THEN 1 ELSE 0 END) AS rented_in_may\n",
    "FROM\n",
    "    film f\n",
    "LEFT JOIN\n",
    "    inventory i USING (film_id)\n",
    "LEFT JOIN\n",
    "    rental r ON i.inventory_id = r.inventory_id AND MONTH(r.rental_date) = 5 AND YEAR (r.rental_date) = 2005\n",
    "GROUP BY\n",
    "    f.film_id, f.rental_rate, f.length, f.rating, f.replacement_cost;'''\n",
    "\n",
    "data = pd.read_sql_query(query, engine)\n",
    "data.head()"
   ]
  },
  {
   "cell_type": "code",
   "execution_count": 4,
   "id": "d9d7af42",
   "metadata": {},
   "outputs": [
    {
     "data": {
      "text/plain": [
       "(1000, 7)"
      ]
     },
     "execution_count": 4,
     "metadata": {},
     "output_type": "execute_result"
    }
   ],
   "source": [
    "data.shape"
   ]
  },
  {
   "cell_type": "code",
   "execution_count": 5,
   "id": "f0eff183",
   "metadata": {},
   "outputs": [
    {
     "data": {
      "text/plain": [
       "1    686\n",
       "0    314\n",
       "Name: rented_in_may, dtype: int64"
      ]
     },
     "execution_count": 5,
     "metadata": {},
     "output_type": "execute_result"
    }
   ],
   "source": [
    "data['rented_in_may'].value_counts()"
   ]
  },
  {
   "cell_type": "code",
   "execution_count": 6,
   "id": "939612c3",
   "metadata": {},
   "outputs": [
    {
     "data": {
      "text/html": [
       "<div>\n",
       "<style scoped>\n",
       "    .dataframe tbody tr th:only-of-type {\n",
       "        vertical-align: middle;\n",
       "    }\n",
       "\n",
       "    .dataframe tbody tr th {\n",
       "        vertical-align: top;\n",
       "    }\n",
       "\n",
       "    .dataframe thead th {\n",
       "        text-align: right;\n",
       "    }\n",
       "</style>\n",
       "<table border=\"1\" class=\"dataframe\">\n",
       "  <thead>\n",
       "    <tr style=\"text-align: right;\">\n",
       "      <th></th>\n",
       "      <th>rental_rate</th>\n",
       "      <th>length</th>\n",
       "      <th>replacement_cost</th>\n",
       "      <th>rented_in_may</th>\n",
       "    </tr>\n",
       "  </thead>\n",
       "  <tbody>\n",
       "    <tr>\n",
       "      <th>count</th>\n",
       "      <td>1000.000000</td>\n",
       "      <td>1000.000000</td>\n",
       "      <td>1000.000000</td>\n",
       "      <td>1000.000000</td>\n",
       "    </tr>\n",
       "    <tr>\n",
       "      <th>mean</th>\n",
       "      <td>2.980000</td>\n",
       "      <td>115.272000</td>\n",
       "      <td>19.984000</td>\n",
       "      <td>0.686000</td>\n",
       "    </tr>\n",
       "    <tr>\n",
       "      <th>std</th>\n",
       "      <td>1.646393</td>\n",
       "      <td>40.426332</td>\n",
       "      <td>6.050833</td>\n",
       "      <td>0.464349</td>\n",
       "    </tr>\n",
       "    <tr>\n",
       "      <th>min</th>\n",
       "      <td>0.990000</td>\n",
       "      <td>46.000000</td>\n",
       "      <td>9.990000</td>\n",
       "      <td>0.000000</td>\n",
       "    </tr>\n",
       "    <tr>\n",
       "      <th>25%</th>\n",
       "      <td>0.990000</td>\n",
       "      <td>80.000000</td>\n",
       "      <td>14.990000</td>\n",
       "      <td>0.000000</td>\n",
       "    </tr>\n",
       "    <tr>\n",
       "      <th>50%</th>\n",
       "      <td>2.990000</td>\n",
       "      <td>114.000000</td>\n",
       "      <td>19.990000</td>\n",
       "      <td>1.000000</td>\n",
       "    </tr>\n",
       "    <tr>\n",
       "      <th>75%</th>\n",
       "      <td>4.990000</td>\n",
       "      <td>149.250000</td>\n",
       "      <td>24.990000</td>\n",
       "      <td>1.000000</td>\n",
       "    </tr>\n",
       "    <tr>\n",
       "      <th>max</th>\n",
       "      <td>4.990000</td>\n",
       "      <td>185.000000</td>\n",
       "      <td>29.990000</td>\n",
       "      <td>1.000000</td>\n",
       "    </tr>\n",
       "  </tbody>\n",
       "</table>\n",
       "</div>"
      ],
      "text/plain": [
       "       rental_rate       length  replacement_cost  rented_in_may\n",
       "count  1000.000000  1000.000000       1000.000000    1000.000000\n",
       "mean      2.980000   115.272000         19.984000       0.686000\n",
       "std       1.646393    40.426332          6.050833       0.464349\n",
       "min       0.990000    46.000000          9.990000       0.000000\n",
       "25%       0.990000    80.000000         14.990000       0.000000\n",
       "50%       2.990000   114.000000         19.990000       1.000000\n",
       "75%       4.990000   149.250000         24.990000       1.000000\n",
       "max       4.990000   185.000000         29.990000       1.000000"
      ]
     },
     "execution_count": 6,
     "metadata": {},
     "output_type": "execute_result"
    }
   ],
   "source": [
    "data.describe()"
   ]
  },
  {
   "cell_type": "code",
   "execution_count": 7,
   "id": "929af98a",
   "metadata": {},
   "outputs": [
    {
     "data": {
      "text/plain": [
       "title               0\n",
       "rental_rate         0\n",
       "length              0\n",
       "rating              0\n",
       "special_features    0\n",
       "replacement_cost    0\n",
       "rented_in_may       0\n",
       "dtype: int64"
      ]
     },
     "execution_count": 7,
     "metadata": {},
     "output_type": "execute_result"
    }
   ],
   "source": [
    "data.isna().sum() #no null values"
   ]
  },
  {
   "cell_type": "code",
   "execution_count": null,
   "id": "28bad58f",
   "metadata": {},
   "outputs": [],
   "source": [
    "data.head()"
   ]
  },
  {
   "cell_type": "code",
   "execution_count": null,
   "id": "4769894e",
   "metadata": {},
   "outputs": [],
   "source": [
    "# #would like to split the special_features based on comma to see if a specific attribute will influence\n",
    "# movies = pd.concat([data, data['special_features'].str.split(',', expand=True)], axis=1)\n",
    "\n",
    "# movies = movies.drop(['special_features'], axis=1)\n",
    "# movies.head()"
   ]
  },
  {
   "cell_type": "code",
   "execution_count": null,
   "id": "9cd9ee20",
   "metadata": {},
   "outputs": [],
   "source": [
    "# movies = movies.rename(columns={0:'feature_1', 1:'feature_2', 2: 'feature_3', 3:'feature_4'})\n",
    "# movies.head()"
   ]
  },
  {
   "cell_type": "code",
   "execution_count": null,
   "id": "c937b259",
   "metadata": {},
   "outputs": [],
   "source": [
    "# movies['feature_1'] = movies['feature_1'].fillna('None')\n",
    "# movies['feature_2'] = movies['feature_2'].fillna('None')\n",
    "# movies['feature_3'] = movies['feature_3'].fillna('None')\n",
    "# movies['feature_4'] = movies['feature_4'].fillna('None')\n"
   ]
  },
  {
   "cell_type": "code",
   "execution_count": 9,
   "id": "0dcaf958",
   "metadata": {},
   "outputs": [
    {
     "data": {
      "image/png": "[encoded data removed]",
      "text/plain": [
       "<Figure size 1000x800 with 2 Axes>"
      ]
     },
     "metadata": {},
     "output_type": "display_data"
    }
   ],
   "source": [
    "import matplotlib.pyplot as plt\n",
    "# look for multicolinearity (some columns having almost identical correlation to other variables)\n",
    "# why can't we look for correlation with our target variable (status)?\n",
    "corr_matrix=data.corr()  # default\n",
    "fig, ax = plt.subplots(figsize=(10, 8))\n",
    "ax = sns.heatmap(corr_matrix, annot=True)\n",
    "plt.show()"
   ]
  },
  {
   "cell_type": "code",
   "execution_count": 10,
   "id": "c9528d18",
   "metadata": {},
   "outputs": [
    {
     "data": {
      "image/png": "[encoded data removed]",
      "text/plain": [
       "<Figure size 500x500 with 1 Axes>"
      ]
     },
     "metadata": {},
     "output_type": "display_data"
    },
    {
     "data": {
      "image/png": "[encoded data removed]",
      "text/plain": [
       "<Figure size 500x500 with 1 Axes>"
      ]
     },
     "metadata": {},
     "output_type": "display_data"
    },
    {
     "data": {
      "image/png": "[encoded data removed]",
      "text/plain": [
       "<Figure size 500x500 with 1 Axes>"
      ]
     },
     "metadata": {},
     "output_type": "display_data"
    }
   ],
   "source": [
    "sns.displot(data['rental_rate'], kde=True)\n",
    "plt.show()\n",
    "\n",
    "sns.displot(data['length'], kde=True)\n",
    "plt.show()\n",
    "\n",
    "sns.displot(data['replacement_cost'], kde=True)\n",
    "plt.show()"
   ]
  },
  {
   "cell_type": "code",
   "execution_count": null,
   "id": "031f4c6c",
   "metadata": {},
   "outputs": [],
   "source": []
  },
  {
   "cell_type": "code",
   "execution_count": 11,
   "id": "b69440d4",
   "metadata": {},
   "outputs": [],
   "source": [
    "# Need to X-y split and train-test-split BEFORE I apply transformations, \n",
    "# then train transformation on training set only\n",
    "y = data['rented_in_may']\n",
    "X = data.drop('rented_in_may', axis=1)\n",
    "\n",
    "from sklearn.model_selection import train_test_split\n",
    "X_train, X_test, y_train, y_test = train_test_split(X, y, test_size=0.2, random_state=1452)"
   ]
  },
  {
   "cell_type": "code",
   "execution_count": 16,
   "id": "edafc7fb",
   "metadata": {},
   "outputs": [
    {
     "data": {
      "text/html": [
       "<div>\n",
       "<style scoped>\n",
       "    .dataframe tbody tr th:only-of-type {\n",
       "        vertical-align: middle;\n",
       "    }\n",
       "\n",
       "    .dataframe tbody tr th {\n",
       "        vertical-align: top;\n",
       "    }\n",
       "\n",
       "    .dataframe thead th {\n",
       "        text-align: right;\n",
       "    }\n",
       "</style>\n",
       "<table border=\"1\" class=\"dataframe\">\n",
       "  <thead>\n",
       "    <tr style=\"text-align: right;\">\n",
       "      <th></th>\n",
       "      <th>rental_rate</th>\n",
       "      <th>length</th>\n",
       "      <th>replacement_cost</th>\n",
       "    </tr>\n",
       "  </thead>\n",
       "  <tbody>\n",
       "    <tr>\n",
       "      <th>0</th>\n",
       "      <td>1.0</td>\n",
       "      <td>0.093525</td>\n",
       "      <td>0.40</td>\n",
       "    </tr>\n",
       "    <tr>\n",
       "      <th>1</th>\n",
       "      <td>1.0</td>\n",
       "      <td>0.309353</td>\n",
       "      <td>0.65</td>\n",
       "    </tr>\n",
       "    <tr>\n",
       "      <th>2</th>\n",
       "      <td>0.5</td>\n",
       "      <td>0.388489</td>\n",
       "      <td>1.00</td>\n",
       "    </tr>\n",
       "    <tr>\n",
       "      <th>3</th>\n",
       "      <td>0.5</td>\n",
       "      <td>0.223022</td>\n",
       "      <td>0.70</td>\n",
       "    </tr>\n",
       "    <tr>\n",
       "      <th>4</th>\n",
       "      <td>1.0</td>\n",
       "      <td>0.402878</td>\n",
       "      <td>0.10</td>\n",
       "    </tr>\n",
       "    <tr>\n",
       "      <th>...</th>\n",
       "      <td>...</td>\n",
       "      <td>...</td>\n",
       "      <td>...</td>\n",
       "    </tr>\n",
       "    <tr>\n",
       "      <th>795</th>\n",
       "      <td>0.0</td>\n",
       "      <td>0.841727</td>\n",
       "      <td>0.90</td>\n",
       "    </tr>\n",
       "    <tr>\n",
       "      <th>796</th>\n",
       "      <td>0.5</td>\n",
       "      <td>0.028777</td>\n",
       "      <td>0.45</td>\n",
       "    </tr>\n",
       "    <tr>\n",
       "      <th>797</th>\n",
       "      <td>0.0</td>\n",
       "      <td>0.669065</td>\n",
       "      <td>0.70</td>\n",
       "    </tr>\n",
       "    <tr>\n",
       "      <th>798</th>\n",
       "      <td>0.5</td>\n",
       "      <td>0.949640</td>\n",
       "      <td>0.40</td>\n",
       "    </tr>\n",
       "    <tr>\n",
       "      <th>799</th>\n",
       "      <td>1.0</td>\n",
       "      <td>0.827338</td>\n",
       "      <td>0.60</td>\n",
       "    </tr>\n",
       "  </tbody>\n",
       "</table>\n",
       "<p>800 rows × 3 columns</p>\n",
       "</div>"
      ],
      "text/plain": [
       "     rental_rate    length  replacement_cost\n",
       "0            1.0  0.093525              0.40\n",
       "1            1.0  0.309353              0.65\n",
       "2            0.5  0.388489              1.00\n",
       "3            0.5  0.223022              0.70\n",
       "4            1.0  0.402878              0.10\n",
       "..           ...       ...               ...\n",
       "795          0.0  0.841727              0.90\n",
       "796          0.5  0.028777              0.45\n",
       "797          0.0  0.669065              0.70\n",
       "798          0.5  0.949640              0.40\n",
       "799          1.0  0.827338              0.60\n",
       "\n",
       "[800 rows x 3 columns]"
      ]
     },
     "execution_count": 16,
     "metadata": {},
     "output_type": "execute_result"
    }
   ],
   "source": [
    "X_train_num = X_train.select_dtypes(include = np.number)\n",
    "\n",
    "# Scaling data\n",
    "transformer = MinMaxScaler().fit(X_train_num) # need to keep transformer\n",
    "X_train_normalized = transformer.transform(X_train_num)\n",
    "X_train_norm = pd.DataFrame(X_train_normalized, columns=X_train_num.columns)\n",
    "X_train_norm"
   ]
  },
  {
   "cell_type": "code",
   "execution_count": 13,
   "id": "dabe1ed8",
   "metadata": {},
   "outputs": [
    {
     "data": {
      "text/plain": [
       "title                object\n",
       "rental_rate         float64\n",
       "length                int64\n",
       "rating               object\n",
       "special_features     object\n",
       "replacement_cost    float64\n",
       "rented_in_may         int64\n",
       "dtype: object"
      ]
     },
     "execution_count": 13,
     "metadata": {},
     "output_type": "execute_result"
    }
   ],
   "source": [
    "data.dtypes"
   ]
  },
  {
   "cell_type": "code",
   "execution_count": 19,
   "id": "f5133d22",
   "metadata": {},
   "outputs": [
    {
     "data": {
      "text/html": [
       "<div>\n",
       "<style scoped>\n",
       "    .dataframe tbody tr th:only-of-type {\n",
       "        vertical-align: middle;\n",
       "    }\n",
       "\n",
       "    .dataframe tbody tr th {\n",
       "        vertical-align: top;\n",
       "    }\n",
       "\n",
       "    .dataframe thead th {\n",
       "        text-align: right;\n",
       "    }\n",
       "</style>\n",
       "<table border=\"1\" class=\"dataframe\">\n",
       "  <thead>\n",
       "    <tr style=\"text-align: right;\">\n",
       "      <th></th>\n",
       "      <th>title</th>\n",
       "      <th>rating_NC-17</th>\n",
       "      <th>rating_PG</th>\n",
       "      <th>rating_PG-13</th>\n",
       "      <th>rating_R</th>\n",
       "      <th>special_features_Commentaries</th>\n",
       "      <th>special_features_Commentaries,Behind the Scenes</th>\n",
       "      <th>special_features_Commentaries,Deleted Scenes</th>\n",
       "      <th>special_features_Commentaries,Deleted Scenes,Behind the Scenes</th>\n",
       "      <th>special_features_Deleted Scenes</th>\n",
       "      <th>special_features_Deleted Scenes,Behind the Scenes</th>\n",
       "      <th>special_features_Trailers</th>\n",
       "      <th>special_features_Trailers,Behind the Scenes</th>\n",
       "      <th>special_features_Trailers,Commentaries</th>\n",
       "      <th>special_features_Trailers,Commentaries,Behind the Scenes</th>\n",
       "      <th>special_features_Trailers,Commentaries,Deleted Scenes</th>\n",
       "      <th>special_features_Trailers,Commentaries,Deleted Scenes,Behind the Scenes</th>\n",
       "      <th>special_features_Trailers,Deleted Scenes</th>\n",
       "      <th>special_features_Trailers,Deleted Scenes,Behind the Scenes</th>\n",
       "    </tr>\n",
       "  </thead>\n",
       "  <tbody>\n",
       "    <tr>\n",
       "      <th>464</th>\n",
       "      <td>INTERVIEW LIAISONS</td>\n",
       "      <td>0</td>\n",
       "      <td>0</td>\n",
       "      <td>0</td>\n",
       "      <td>1</td>\n",
       "      <td>0</td>\n",
       "      <td>1</td>\n",
       "      <td>0</td>\n",
       "      <td>0</td>\n",
       "      <td>0</td>\n",
       "      <td>0</td>\n",
       "      <td>0</td>\n",
       "      <td>0</td>\n",
       "      <td>0</td>\n",
       "      <td>0</td>\n",
       "      <td>0</td>\n",
       "      <td>0</td>\n",
       "      <td>0</td>\n",
       "      <td>0</td>\n",
       "    </tr>\n",
       "    <tr>\n",
       "      <th>59</th>\n",
       "      <td>BEAST HUNCHBACK</td>\n",
       "      <td>0</td>\n",
       "      <td>0</td>\n",
       "      <td>0</td>\n",
       "      <td>1</td>\n",
       "      <td>0</td>\n",
       "      <td>0</td>\n",
       "      <td>0</td>\n",
       "      <td>0</td>\n",
       "      <td>0</td>\n",
       "      <td>1</td>\n",
       "      <td>0</td>\n",
       "      <td>0</td>\n",
       "      <td>0</td>\n",
       "      <td>0</td>\n",
       "      <td>0</td>\n",
       "      <td>0</td>\n",
       "      <td>0</td>\n",
       "      <td>0</td>\n",
       "    </tr>\n",
       "    <tr>\n",
       "      <th>321</th>\n",
       "      <td>FLATLINERS KILLER</td>\n",
       "      <td>0</td>\n",
       "      <td>0</td>\n",
       "      <td>0</td>\n",
       "      <td>0</td>\n",
       "      <td>0</td>\n",
       "      <td>0</td>\n",
       "      <td>0</td>\n",
       "      <td>0</td>\n",
       "      <td>0</td>\n",
       "      <td>0</td>\n",
       "      <td>0</td>\n",
       "      <td>0</td>\n",
       "      <td>0</td>\n",
       "      <td>0</td>\n",
       "      <td>1</td>\n",
       "      <td>0</td>\n",
       "      <td>0</td>\n",
       "      <td>0</td>\n",
       "    </tr>\n",
       "    <tr>\n",
       "      <th>677</th>\n",
       "      <td>PICKUP DRIVING</td>\n",
       "      <td>0</td>\n",
       "      <td>0</td>\n",
       "      <td>0</td>\n",
       "      <td>0</td>\n",
       "      <td>0</td>\n",
       "      <td>0</td>\n",
       "      <td>0</td>\n",
       "      <td>0</td>\n",
       "      <td>0</td>\n",
       "      <td>0</td>\n",
       "      <td>0</td>\n",
       "      <td>0</td>\n",
       "      <td>0</td>\n",
       "      <td>0</td>\n",
       "      <td>0</td>\n",
       "      <td>1</td>\n",
       "      <td>0</td>\n",
       "      <td>0</td>\n",
       "    </tr>\n",
       "    <tr>\n",
       "      <th>767</th>\n",
       "      <td>SCARFACE BANG</td>\n",
       "      <td>0</td>\n",
       "      <td>0</td>\n",
       "      <td>1</td>\n",
       "      <td>0</td>\n",
       "      <td>0</td>\n",
       "      <td>0</td>\n",
       "      <td>1</td>\n",
       "      <td>0</td>\n",
       "      <td>0</td>\n",
       "      <td>0</td>\n",
       "      <td>0</td>\n",
       "      <td>0</td>\n",
       "      <td>0</td>\n",
       "      <td>0</td>\n",
       "      <td>0</td>\n",
       "      <td>0</td>\n",
       "      <td>0</td>\n",
       "      <td>0</td>\n",
       "    </tr>\n",
       "  </tbody>\n",
       "</table>\n",
       "</div>"
      ],
      "text/plain": [
       "                  title  rating_NC-17  rating_PG  rating_PG-13  rating_R  \\\n",
       "464  INTERVIEW LIAISONS             0          0             0         1   \n",
       "59      BEAST HUNCHBACK             0          0             0         1   \n",
       "321   FLATLINERS KILLER             0          0             0         0   \n",
       "677      PICKUP DRIVING             0          0             0         0   \n",
       "767       SCARFACE BANG             0          0             1         0   \n",
       "\n",
       "     special_features_Commentaries  \\\n",
       "464                              0   \n",
       "59                               0   \n",
       "321                              0   \n",
       "677                              0   \n",
       "767                              0   \n",
       "\n",
       "     special_features_Commentaries,Behind the Scenes  \\\n",
       "464                                                1   \n",
       "59                                                 0   \n",
       "321                                                0   \n",
       "677                                                0   \n",
       "767                                                0   \n",
       "\n",
       "     special_features_Commentaries,Deleted Scenes  \\\n",
       "464                                             0   \n",
       "59                                              0   \n",
       "321                                             0   \n",
       "677                                             0   \n",
       "767                                             1   \n",
       "\n",
       "     special_features_Commentaries,Deleted Scenes,Behind the Scenes  \\\n",
       "464                                                  0                \n",
       "59                                                   0                \n",
       "321                                                  0                \n",
       "677                                                  0                \n",
       "767                                                  0                \n",
       "\n",
       "     special_features_Deleted Scenes  \\\n",
       "464                                0   \n",
       "59                                 0   \n",
       "321                                0   \n",
       "677                                0   \n",
       "767                                0   \n",
       "\n",
       "     special_features_Deleted Scenes,Behind the Scenes  \\\n",
       "464                                                  0   \n",
       "59                                                   1   \n",
       "321                                                  0   \n",
       "677                                                  0   \n",
       "767                                                  0   \n",
       "\n",
       "     special_features_Trailers  special_features_Trailers,Behind the Scenes  \\\n",
       "464                          0                                            0   \n",
       "59                           0                                            0   \n",
       "321                          0                                            0   \n",
       "677                          0                                            0   \n",
       "767                          0                                            0   \n",
       "\n",
       "     special_features_Trailers,Commentaries  \\\n",
       "464                                       0   \n",
       "59                                        0   \n",
       "321                                       0   \n",
       "677                                       0   \n",
       "767                                       0   \n",
       "\n",
       "     special_features_Trailers,Commentaries,Behind the Scenes  \\\n",
       "464                                                  0          \n",
       "59                                                   0          \n",
       "321                                                  0          \n",
       "677                                                  0          \n",
       "767                                                  0          \n",
       "\n",
       "     special_features_Trailers,Commentaries,Deleted Scenes  \\\n",
       "464                                                  0       \n",
       "59                                                   0       \n",
       "321                                                  1       \n",
       "677                                                  0       \n",
       "767                                                  0       \n",
       "\n",
       "     special_features_Trailers,Commentaries,Deleted Scenes,Behind the Scenes  \\\n",
       "464                                                  0                         \n",
       "59                                                   0                         \n",
       "321                                                  0                         \n",
       "677                                                  1                         \n",
       "767                                                  0                         \n",
       "\n",
       "     special_features_Trailers,Deleted Scenes  \\\n",
       "464                                         0   \n",
       "59                                          0   \n",
       "321                                         0   \n",
       "677                                         0   \n",
       "767                                         0   \n",
       "\n",
       "     special_features_Trailers,Deleted Scenes,Behind the Scenes  \n",
       "464                                                  0           \n",
       "59                                                   0           \n",
       "321                                                  0           \n",
       "677                                                  0           \n",
       "767                                                  0           "
      ]
     },
     "execution_count": 19,
     "metadata": {},
     "output_type": "execute_result"
    }
   ],
   "source": [
    "X_train_categorical = X_train.select_dtypes(include = object)\n",
    "X_train_cat = pd.get_dummies(X_train_categorical, \n",
    "                             columns=['rating', 'special_features'],\n",
    "                             drop_first=True)\n",
    "X_train_cat.head()"
   ]
  },
  {
   "cell_type": "code",
   "execution_count": null,
   "id": "0843f34d",
   "metadata": {},
   "outputs": [],
   "source": [
    "# features = ['Deleted Scenes', 'Trailers', 'Commentaries', 'Behind the Scenes', 'None']\n",
    "# features"
   ]
  },
  {
   "cell_type": "code",
   "execution_count": null,
   "id": "1028e2c6",
   "metadata": {},
   "outputs": [],
   "source": [
    "# def strings_to_onehot(categories_column1, categories_column2, categories_column3, categories_column4):     \n",
    "\n",
    "#      # We will create a one-hot matrix, the first step is to create a zero-matrix \n",
    "#      # of dimmensions number of datapoints X number of categories\n",
    "#      one_hot_matrix = np.zeros( (len(categories_column1), len(features)), dtype=int )\n",
    "\n",
    "#      # This loop sets to 1 the right slot in each row for every example in our data\n",
    "#      for row, c1, c2, c3, c4 in zip(one_hot_matrix, categories_column1, categories_column2, categories_column3, categories_column4):\n",
    "#             category_index1 = features.index(c1)\n",
    "#             category_index2 = features.index(c2)\n",
    "#             category_index3 = features.index(c3)\n",
    "#             category_index4 = features.index(c4)\n",
    "#             row[category_index1] = 1\n",
    "#             row[category_index2] = 1\n",
    "#             row[category_index3] = 1\n",
    "#             row[category_index4] = 1\n",
    "\n",
    "#      # Now, let's build and return a DataFrame with the values\n",
    "#      return pd.DataFrame(columns = features, data = one_hot_matrix)\n",
    "\n",
    "# # onehot_types is the DataFrame with the categories in one-hot encoding\n",
    "\n",
    "# type1 = X_train['feature_1'].to_list()\n",
    "# type2 = X_train['feature_2'].to_list()\n",
    "# type3 = X_train['feature_3'].to_list()\n",
    "# type4 = X_train['feature_4'].to_list()\n",
    "# onehot_types = strings_to_onehot(type1, type2, type3, type4)\n",
    "# onehot_types.shape"
   ]
  },
  {
   "cell_type": "code",
   "execution_count": null,
   "id": "7f67dde6",
   "metadata": {},
   "outputs": [],
   "source": [
    "# onehot_types = onehot_types.drop(['None', 'Trailers'], axis=1)\n",
    "# onehot_types.shape"
   ]
  },
  {
   "cell_type": "code",
   "execution_count": null,
   "id": "8112069a",
   "metadata": {},
   "outputs": [],
   "source": [
    "# print(X_train_rat.shape)\n",
    "# print(onehot_types.shape)\n",
    "\n",
    "# #X_train_cat = pd.concat([X_train_rat['', onehot_types], axis=1) - concatenating increasing the rows from 800 to 956?!\n",
    "\n",
    "# X_train_cat['']"
   ]
  },
  {
   "cell_type": "code",
   "execution_count": 34,
   "id": "c1187320",
   "metadata": {},
   "outputs": [
    {
     "data": {
      "text/html": [
       "<div>\n",
       "<style scoped>\n",
       "    .dataframe tbody tr th:only-of-type {\n",
       "        vertical-align: middle;\n",
       "    }\n",
       "\n",
       "    .dataframe tbody tr th {\n",
       "        vertical-align: top;\n",
       "    }\n",
       "\n",
       "    .dataframe thead th {\n",
       "        text-align: right;\n",
       "    }\n",
       "</style>\n",
       "<table border=\"1\" class=\"dataframe\">\n",
       "  <thead>\n",
       "    <tr style=\"text-align: right;\">\n",
       "      <th></th>\n",
       "      <th>rating_NC-17</th>\n",
       "      <th>rating_PG</th>\n",
       "      <th>rating_PG-13</th>\n",
       "      <th>rating_R</th>\n",
       "      <th>special_features_Commentaries</th>\n",
       "      <th>special_features_Commentaries,Behind the Scenes</th>\n",
       "      <th>special_features_Commentaries,Deleted Scenes</th>\n",
       "      <th>special_features_Commentaries,Deleted Scenes,Behind the Scenes</th>\n",
       "      <th>special_features_Deleted Scenes</th>\n",
       "      <th>special_features_Deleted Scenes,Behind the Scenes</th>\n",
       "      <th>special_features_Trailers</th>\n",
       "      <th>special_features_Trailers,Behind the Scenes</th>\n",
       "      <th>special_features_Trailers,Commentaries</th>\n",
       "      <th>special_features_Trailers,Commentaries,Behind the Scenes</th>\n",
       "      <th>special_features_Trailers,Commentaries,Deleted Scenes</th>\n",
       "      <th>special_features_Trailers,Commentaries,Deleted Scenes,Behind the Scenes</th>\n",
       "      <th>special_features_Trailers,Deleted Scenes</th>\n",
       "      <th>special_features_Trailers,Deleted Scenes,Behind the Scenes</th>\n",
       "    </tr>\n",
       "  </thead>\n",
       "  <tbody>\n",
       "    <tr>\n",
       "      <th>464</th>\n",
       "      <td>0</td>\n",
       "      <td>0</td>\n",
       "      <td>0</td>\n",
       "      <td>1</td>\n",
       "      <td>0</td>\n",
       "      <td>1</td>\n",
       "      <td>0</td>\n",
       "      <td>0</td>\n",
       "      <td>0</td>\n",
       "      <td>0</td>\n",
       "      <td>0</td>\n",
       "      <td>0</td>\n",
       "      <td>0</td>\n",
       "      <td>0</td>\n",
       "      <td>0</td>\n",
       "      <td>0</td>\n",
       "      <td>0</td>\n",
       "      <td>0</td>\n",
       "    </tr>\n",
       "    <tr>\n",
       "      <th>59</th>\n",
       "      <td>0</td>\n",
       "      <td>0</td>\n",
       "      <td>0</td>\n",
       "      <td>1</td>\n",
       "      <td>0</td>\n",
       "      <td>0</td>\n",
       "      <td>0</td>\n",
       "      <td>0</td>\n",
       "      <td>0</td>\n",
       "      <td>1</td>\n",
       "      <td>0</td>\n",
       "      <td>0</td>\n",
       "      <td>0</td>\n",
       "      <td>0</td>\n",
       "      <td>0</td>\n",
       "      <td>0</td>\n",
       "      <td>0</td>\n",
       "      <td>0</td>\n",
       "    </tr>\n",
       "    <tr>\n",
       "      <th>321</th>\n",
       "      <td>0</td>\n",
       "      <td>0</td>\n",
       "      <td>0</td>\n",
       "      <td>0</td>\n",
       "      <td>0</td>\n",
       "      <td>0</td>\n",
       "      <td>0</td>\n",
       "      <td>0</td>\n",
       "      <td>0</td>\n",
       "      <td>0</td>\n",
       "      <td>0</td>\n",
       "      <td>0</td>\n",
       "      <td>0</td>\n",
       "      <td>0</td>\n",
       "      <td>1</td>\n",
       "      <td>0</td>\n",
       "      <td>0</td>\n",
       "      <td>0</td>\n",
       "    </tr>\n",
       "    <tr>\n",
       "      <th>677</th>\n",
       "      <td>0</td>\n",
       "      <td>0</td>\n",
       "      <td>0</td>\n",
       "      <td>0</td>\n",
       "      <td>0</td>\n",
       "      <td>0</td>\n",
       "      <td>0</td>\n",
       "      <td>0</td>\n",
       "      <td>0</td>\n",
       "      <td>0</td>\n",
       "      <td>0</td>\n",
       "      <td>0</td>\n",
       "      <td>0</td>\n",
       "      <td>0</td>\n",
       "      <td>0</td>\n",
       "      <td>1</td>\n",
       "      <td>0</td>\n",
       "      <td>0</td>\n",
       "    </tr>\n",
       "    <tr>\n",
       "      <th>767</th>\n",
       "      <td>0</td>\n",
       "      <td>0</td>\n",
       "      <td>1</td>\n",
       "      <td>0</td>\n",
       "      <td>0</td>\n",
       "      <td>0</td>\n",
       "      <td>1</td>\n",
       "      <td>0</td>\n",
       "      <td>0</td>\n",
       "      <td>0</td>\n",
       "      <td>0</td>\n",
       "      <td>0</td>\n",
       "      <td>0</td>\n",
       "      <td>0</td>\n",
       "      <td>0</td>\n",
       "      <td>0</td>\n",
       "      <td>0</td>\n",
       "      <td>0</td>\n",
       "    </tr>\n",
       "  </tbody>\n",
       "</table>\n",
       "</div>"
      ],
      "text/plain": [
       "     rating_NC-17  rating_PG  rating_PG-13  rating_R  \\\n",
       "464             0          0             0         1   \n",
       "59              0          0             0         1   \n",
       "321             0          0             0         0   \n",
       "677             0          0             0         0   \n",
       "767             0          0             1         0   \n",
       "\n",
       "     special_features_Commentaries  \\\n",
       "464                              0   \n",
       "59                               0   \n",
       "321                              0   \n",
       "677                              0   \n",
       "767                              0   \n",
       "\n",
       "     special_features_Commentaries,Behind the Scenes  \\\n",
       "464                                                1   \n",
       "59                                                 0   \n",
       "321                                                0   \n",
       "677                                                0   \n",
       "767                                                0   \n",
       "\n",
       "     special_features_Commentaries,Deleted Scenes  \\\n",
       "464                                             0   \n",
       "59                                              0   \n",
       "321                                             0   \n",
       "677                                             0   \n",
       "767                                             1   \n",
       "\n",
       "     special_features_Commentaries,Deleted Scenes,Behind the Scenes  \\\n",
       "464                                                  0                \n",
       "59                                                   0                \n",
       "321                                                  0                \n",
       "677                                                  0                \n",
       "767                                                  0                \n",
       "\n",
       "     special_features_Deleted Scenes  \\\n",
       "464                                0   \n",
       "59                                 0   \n",
       "321                                0   \n",
       "677                                0   \n",
       "767                                0   \n",
       "\n",
       "     special_features_Deleted Scenes,Behind the Scenes  \\\n",
       "464                                                  0   \n",
       "59                                                   1   \n",
       "321                                                  0   \n",
       "677                                                  0   \n",
       "767                                                  0   \n",
       "\n",
       "     special_features_Trailers  special_features_Trailers,Behind the Scenes  \\\n",
       "464                          0                                            0   \n",
       "59                           0                                            0   \n",
       "321                          0                                            0   \n",
       "677                          0                                            0   \n",
       "767                          0                                            0   \n",
       "\n",
       "     special_features_Trailers,Commentaries  \\\n",
       "464                                       0   \n",
       "59                                        0   \n",
       "321                                       0   \n",
       "677                                       0   \n",
       "767                                       0   \n",
       "\n",
       "     special_features_Trailers,Commentaries,Behind the Scenes  \\\n",
       "464                                                  0          \n",
       "59                                                   0          \n",
       "321                                                  0          \n",
       "677                                                  0          \n",
       "767                                                  0          \n",
       "\n",
       "     special_features_Trailers,Commentaries,Deleted Scenes  \\\n",
       "464                                                  0       \n",
       "59                                                   0       \n",
       "321                                                  1       \n",
       "677                                                  0       \n",
       "767                                                  0       \n",
       "\n",
       "     special_features_Trailers,Commentaries,Deleted Scenes,Behind the Scenes  \\\n",
       "464                                                  0                         \n",
       "59                                                   0                         \n",
       "321                                                  0                         \n",
       "677                                                  1                         \n",
       "767                                                  0                         \n",
       "\n",
       "     special_features_Trailers,Deleted Scenes  \\\n",
       "464                                         0   \n",
       "59                                          0   \n",
       "321                                         0   \n",
       "677                                         0   \n",
       "767                                         0   \n",
       "\n",
       "     special_features_Trailers,Deleted Scenes,Behind the Scenes  \n",
       "464                                                  0           \n",
       "59                                                   0           \n",
       "321                                                  0           \n",
       "677                                                  0           \n",
       "767                                                  0           "
      ]
     },
     "execution_count": 34,
     "metadata": {},
     "output_type": "execute_result"
    }
   ],
   "source": [
    "X_train_cat = X_train_cat.drop(['title'], axis=1)\n",
    "X_train_cat.head()"
   ]
  },
  {
   "cell_type": "code",
   "execution_count": 35,
   "id": "ad360d61",
   "metadata": {},
   "outputs": [],
   "source": [
    "# build X_train and y_train\n",
    "# remember: y = data['status'], y_train selected in train_test_split\n",
    "X_train_transformed = np.concatenate([X_train_norm, X_train_cat], axis=1)"
   ]
  },
  {
   "cell_type": "code",
   "execution_count": 36,
   "id": "69a5f6f8",
   "metadata": {},
   "outputs": [
    {
     "name": "stdout",
     "output_type": "stream",
     "text": [
      "[[1.         0.09352518 0.4        ... 0.         0.         0.        ]\n",
      " [1.         0.30935252 0.65       ... 0.         0.         0.        ]\n",
      " [0.5        0.38848921 1.         ... 0.         0.         0.        ]\n",
      " ...\n",
      " [0.         0.66906475 0.7        ... 0.         1.         0.        ]\n",
      " [0.5        0.94964029 0.4        ... 0.         0.         0.        ]\n",
      " [1.         0.82733813 0.6        ... 0.         0.         0.        ]]\n"
     ]
    }
   ],
   "source": [
    "print(X_train_transformed)"
   ]
  },
  {
   "cell_type": "code",
   "execution_count": 37,
   "id": "91c9cf4d",
   "metadata": {},
   "outputs": [
    {
     "data": {
      "text/plain": [
       "464    1\n",
       "59     1\n",
       "321    1\n",
       "677    1\n",
       "767    1\n",
       "      ..\n",
       "849    1\n",
       "82     1\n",
       "188    0\n",
       "452    0\n",
       "99     1\n",
       "Name: rented_in_may, Length: 800, dtype: int64"
      ]
     },
     "execution_count": 37,
     "metadata": {},
     "output_type": "execute_result"
    }
   ],
   "source": [
    "y_train"
   ]
  },
  {
   "cell_type": "code",
   "execution_count": 38,
   "id": "4c5f85dd",
   "metadata": {},
   "outputs": [],
   "source": [
    "from sklearn.linear_model import LogisticRegression\n",
    "classification = LogisticRegression(random_state=0, solver='lbfgs',\n",
    "                  multi_class='multinomial').fit(X_train_transformed, y_train)"
   ]
  },
  {
   "cell_type": "code",
   "execution_count": 41,
   "id": "6120e4ac",
   "metadata": {},
   "outputs": [
    {
     "data": {
      "text/html": [
       "<div>\n",
       "<style scoped>\n",
       "    .dataframe tbody tr th:only-of-type {\n",
       "        vertical-align: middle;\n",
       "    }\n",
       "\n",
       "    .dataframe tbody tr th {\n",
       "        vertical-align: top;\n",
       "    }\n",
       "\n",
       "    .dataframe thead th {\n",
       "        text-align: right;\n",
       "    }\n",
       "</style>\n",
       "<table border=\"1\" class=\"dataframe\">\n",
       "  <thead>\n",
       "    <tr style=\"text-align: right;\">\n",
       "      <th></th>\n",
       "      <th>0</th>\n",
       "      <th>1</th>\n",
       "      <th>2</th>\n",
       "    </tr>\n",
       "  </thead>\n",
       "  <tbody>\n",
       "    <tr>\n",
       "      <th>0</th>\n",
       "      <td>0.5</td>\n",
       "      <td>0.546763</td>\n",
       "      <td>0.9</td>\n",
       "    </tr>\n",
       "    <tr>\n",
       "      <th>1</th>\n",
       "      <td>0.5</td>\n",
       "      <td>0.438849</td>\n",
       "      <td>0.2</td>\n",
       "    </tr>\n",
       "    <tr>\n",
       "      <th>2</th>\n",
       "      <td>1.0</td>\n",
       "      <td>0.755396</td>\n",
       "      <td>0.6</td>\n",
       "    </tr>\n",
       "    <tr>\n",
       "      <th>3</th>\n",
       "      <td>1.0</td>\n",
       "      <td>0.647482</td>\n",
       "      <td>0.8</td>\n",
       "    </tr>\n",
       "    <tr>\n",
       "      <th>4</th>\n",
       "      <td>0.5</td>\n",
       "      <td>0.690647</td>\n",
       "      <td>0.2</td>\n",
       "    </tr>\n",
       "  </tbody>\n",
       "</table>\n",
       "</div>"
      ],
      "text/plain": [
       "     0         1    2\n",
       "0  0.5  0.546763  0.9\n",
       "1  0.5  0.438849  0.2\n",
       "2  1.0  0.755396  0.6\n",
       "3  1.0  0.647482  0.8\n",
       "4  0.5  0.690647  0.2"
      ]
     },
     "execution_count": 41,
     "metadata": {},
     "output_type": "execute_result"
    }
   ],
   "source": [
    "# for numericals\n",
    "X_test_num = X_test.select_dtypes(include = np.number)\n",
    "\n",
    "# Scaling data\n",
    "# we use the transformer that was trained on the training data\n",
    "X_test_normalized = transformer.transform(X_test_num)\n",
    "X_test_norm = pd.DataFrame(X_test_normalized)\n",
    "X_test_norm.head()"
   ]
  },
  {
   "cell_type": "code",
   "execution_count": 43,
   "id": "2db46fc1",
   "metadata": {},
   "outputs": [],
   "source": [
    "# for categoricals\n",
    "X_test_categorical = X_test.select_dtypes(include = object)\n",
    "X_test_cat = pd.get_dummies(X_test_categorical, \n",
    "                            columns=['rating', 'special_features'],\n",
    "                            drop_first=True)\n",
    "X_test_cat = X_test_cat.drop(['title'], axis=1)"
   ]
  },
  {
   "cell_type": "code",
   "execution_count": 45,
   "id": "ffef1645",
   "metadata": {},
   "outputs": [
    {
     "data": {
      "text/plain": [
       "Index(['rating_NC-17', 'rating_PG', 'rating_PG-13', 'rating_R',\n",
       "       'special_features_Commentaries',\n",
       "       'special_features_Commentaries,Behind the Scenes',\n",
       "       'special_features_Commentaries,Deleted Scenes',\n",
       "       'special_features_Commentaries,Deleted Scenes,Behind the Scenes',\n",
       "       'special_features_Deleted Scenes',\n",
       "       'special_features_Deleted Scenes,Behind the Scenes',\n",
       "       'special_features_Trailers',\n",
       "       'special_features_Trailers,Behind the Scenes',\n",
       "       'special_features_Trailers,Commentaries',\n",
       "       'special_features_Trailers,Commentaries,Behind the Scenes',\n",
       "       'special_features_Trailers,Commentaries,Deleted Scenes',\n",
       "       'special_features_Trailers,Commentaries,Deleted Scenes,Behind the Scenes',\n",
       "       'special_features_Trailers,Deleted Scenes',\n",
       "       'special_features_Trailers,Deleted Scenes,Behind the Scenes'],\n",
       "      dtype='object')"
      ]
     },
     "execution_count": 45,
     "metadata": {},
     "output_type": "execute_result"
    }
   ],
   "source": [
    "X_test_cat.columns"
   ]
  },
  {
   "cell_type": "code",
   "execution_count": 46,
   "id": "c798523c",
   "metadata": {},
   "outputs": [
    {
     "data": {
      "text/plain": [
       "Index(['rating_NC-17', 'rating_PG', 'rating_PG-13', 'rating_R',\n",
       "       'special_features_Commentaries',\n",
       "       'special_features_Commentaries,Behind the Scenes',\n",
       "       'special_features_Commentaries,Deleted Scenes',\n",
       "       'special_features_Commentaries,Deleted Scenes,Behind the Scenes',\n",
       "       'special_features_Deleted Scenes',\n",
       "       'special_features_Deleted Scenes,Behind the Scenes',\n",
       "       'special_features_Trailers',\n",
       "       'special_features_Trailers,Behind the Scenes',\n",
       "       'special_features_Trailers,Commentaries',\n",
       "       'special_features_Trailers,Commentaries,Behind the Scenes',\n",
       "       'special_features_Trailers,Commentaries,Deleted Scenes',\n",
       "       'special_features_Trailers,Commentaries,Deleted Scenes,Behind the Scenes',\n",
       "       'special_features_Trailers,Deleted Scenes',\n",
       "       'special_features_Trailers,Deleted Scenes,Behind the Scenes'],\n",
       "      dtype='object')"
      ]
     },
     "execution_count": 46,
     "metadata": {},
     "output_type": "execute_result"
    }
   ],
   "source": [
    "X_train_cat.columns"
   ]
  },
  {
   "cell_type": "code",
   "execution_count": 47,
   "id": "4b257f8a",
   "metadata": {},
   "outputs": [],
   "source": [
    "X_test_transformed = np.concatenate([X_test_norm, X_test_cat], axis=1)"
   ]
  },
  {
   "cell_type": "code",
   "execution_count": 50,
   "id": "414e33bf",
   "metadata": {},
   "outputs": [
    {
     "data": {
      "text/plain": [
       "0.705"
      ]
     },
     "execution_count": 50,
     "metadata": {},
     "output_type": "execute_result"
    }
   ],
   "source": [
    "predictions = classification.predict(X_test_transformed)\n",
    "classification.score(X_test_transformed, y_test)"
   ]
  },
  {
   "cell_type": "code",
   "execution_count": 51,
   "id": "7d844df0",
   "metadata": {},
   "outputs": [
    {
     "name": "stdout",
     "output_type": "stream",
     "text": [
      "1    143\n",
      "0     57\n",
      "Name: rented_in_may, dtype: int64\n"
     ]
    }
   ],
   "source": [
    "print(y_test.value_counts())"
   ]
  },
  {
   "cell_type": "code",
   "execution_count": 52,
   "id": "719119aa",
   "metadata": {},
   "outputs": [
    {
     "data": {
      "text/plain": [
       "1    190\n",
       "0     10\n",
       "dtype: int64"
      ]
     },
     "execution_count": 52,
     "metadata": {},
     "output_type": "execute_result"
    }
   ],
   "source": [
    "pd.Series(predictions).value_counts()"
   ]
  },
  {
   "cell_type": "code",
   "execution_count": 53,
   "id": "68cc17e2",
   "metadata": {},
   "outputs": [
    {
     "data": {
      "text/plain": [
       "array([[  4,  53],\n",
       "       [  6, 137]])"
      ]
     },
     "execution_count": 53,
     "metadata": {},
     "output_type": "execute_result"
    }
   ],
   "source": [
    "from sklearn.metrics import confusion_matrix\n",
    "confusion_matrix(y_test, predictions)"
   ]
  },
  {
   "cell_type": "code",
   "execution_count": null,
   "id": "e9323512",
   "metadata": {},
   "outputs": [],
   "source": []
  }
 ],
 "metadata": {
  "kernelspec": {
   "display_name": "Python 3 (ipykernel)",
   "language": "python",
   "name": "python3"
  },
  "language_info": {
   "codemirror_mode": {
    "name": "ipython",
    "version": 3
   },
   "file_extension": ".py",
   "mimetype": "text/x-python",
   "name": "python",
   "nbconvert_exporter": "python",
   "pygments_lexer": "ipython3",
   "version": "3.9.13"
  }
 },
 "nbformat": 4,
 "nbformat_minor": 5
}
